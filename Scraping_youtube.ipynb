{
  "nbformat": 4,
  "nbformat_minor": 0,
  "metadata": {
    "colab": {
      "name": "Scraping_youtube.ipynb",
      "provenance": [],
      "collapsed_sections": [],
      "authorship_tag": "ABX9TyMjhhXf7Ys/NVWlRebUwAsd",
      "include_colab_link": true
    },
    "kernelspec": {
      "name": "python3",
      "display_name": "Python 3"
    },
    "language_info": {
      "name": "python"
    }
  },
  "cells": [
    {
      "cell_type": "markdown",
      "metadata": {
        "id": "view-in-github",
        "colab_type": "text"
      },
      "source": [
        "<a href=\"https://colab.research.google.com/github/ykato27/Scraping/blob/main/Scraping_youtube.ipynb\" target=\"_parent\"><img src=\"https://colab.research.google.com/assets/colab-badge.svg\" alt=\"Open In Colab\"/></a>"
      ]
    },
    {
      "cell_type": "markdown",
      "metadata": {
        "id": "JVF9n86QLDiT"
      },
      "source": [
        "## youtubeチャンネルから全URLを取得"
      ]
    },
    {
      "cell_type": "code",
      "metadata": {
        "colab": {
          "base_uri": "https://localhost:8080/"
        },
        "id": "DeMqNzJSK9Uz",
        "outputId": "4dbb3a8d-c9ca-4475-fd5d-a662986720d5"
      },
      "source": [
        "!pip install yapf isort autopep8"
      ],
      "execution_count": 1,
      "outputs": [
        {
          "output_type": "stream",
          "text": [
            "Requirement already satisfied: yapf in /usr/local/lib/python3.7/dist-packages (0.31.0)\n",
            "Requirement already satisfied: isort in /usr/local/lib/python3.7/dist-packages (5.8.0)\n",
            "Requirement already satisfied: autopep8 in /usr/local/lib/python3.7/dist-packages (1.5.7)\n",
            "Requirement already satisfied: pycodestyle>=2.7.0 in /usr/local/lib/python3.7/dist-packages (from autopep8) (2.7.0)\n",
            "Requirement already satisfied: toml in /usr/local/lib/python3.7/dist-packages (from autopep8) (0.10.2)\n"
          ],
          "name": "stdout"
        }
      ]
    },
    {
      "cell_type": "code",
      "metadata": {
        "colab": {
          "base_uri": "https://localhost:8080/"
        },
        "id": "66WfbxWRLm8Q",
        "outputId": "a0824edc-563e-4930-da29-8469d9ed1c4c"
      },
      "source": [
        "!pip install selenium\n",
        "!apt-get update\n",
        "!apt install chromium-chromedriver\n",
        "!cp /usr/lib/chromium-browser/chromedriver /usr/bin"
      ],
      "execution_count": 2,
      "outputs": [
        {
          "output_type": "stream",
          "text": [
            "Requirement already satisfied: selenium in /usr/local/lib/python3.7/dist-packages (3.141.0)\n",
            "Requirement already satisfied: urllib3 in /usr/local/lib/python3.7/dist-packages (from selenium) (1.24.3)\n",
            "Hit:1 https://cloud.r-project.org/bin/linux/ubuntu bionic-cran40/ InRelease\n",
            "Ign:2 https://developer.download.nvidia.com/compute/cuda/repos/ubuntu1804/x86_64  InRelease\n",
            "Ign:3 https://developer.download.nvidia.com/compute/machine-learning/repos/ubuntu1804/x86_64  InRelease\n",
            "Hit:4 https://developer.download.nvidia.com/compute/cuda/repos/ubuntu1804/x86_64  Release\n",
            "Hit:5 http://security.ubuntu.com/ubuntu bionic-security InRelease\n",
            "Hit:6 https://developer.download.nvidia.com/compute/machine-learning/repos/ubuntu1804/x86_64  Release\n",
            "Hit:7 http://ppa.launchpad.net/c2d4u.team/c2d4u4.0+/ubuntu bionic InRelease\n",
            "Hit:8 http://archive.ubuntu.com/ubuntu bionic InRelease\n",
            "Hit:9 http://archive.ubuntu.com/ubuntu bionic-updates InRelease\n",
            "Hit:11 http://archive.ubuntu.com/ubuntu bionic-backports InRelease\n",
            "Hit:12 http://ppa.launchpad.net/cran/libgit2/ubuntu bionic InRelease\n",
            "Hit:13 http://ppa.launchpad.net/deadsnakes/ppa/ubuntu bionic InRelease\n",
            "Hit:15 http://ppa.launchpad.net/graphics-drivers/ppa/ubuntu bionic InRelease\n",
            "Reading package lists... Done\n",
            "Reading package lists... Done\n",
            "Building dependency tree       \n",
            "Reading state information... Done\n",
            "chromium-chromedriver is already the newest version (91.0.4472.101-0ubuntu0.18.04.1).\n",
            "0 upgraded, 0 newly installed, 0 to remove and 47 not upgraded.\n",
            "cp: '/usr/lib/chromium-browser/chromedriver' and '/usr/bin/chromedriver' are the same file\n"
          ],
          "name": "stdout"
        }
      ]
    },
    {
      "cell_type": "code",
      "metadata": {
        "id": "QgUjQ3CfLK9S"
      },
      "source": [
        "# 自動コード整形\n",
        "import autopep8\n",
        "import isort\n",
        "from IPython.core.magic import register_cell_magic\n",
        "from yapf.yapflib.yapf_api import FormatCode\n",
        "\n",
        "\n",
        "@register_cell_magic\n",
        "def max_fmt(line, cell):\n",
        "   \"\"\"\n",
        "   My formatter cell magic comannd.\n",
        "   Please install autopep8, isort and yapf before using this magic command.\n",
        "   !pip install autopep8 isort yapf\n",
        "   \"\"\"\n",
        "   ret = isort.code(cell)\n",
        "   ret = autopep8.fix_code(ret)\n",
        "   print(FormatCode(ret, style_config='pep8')[0])"
      ],
      "execution_count": 3,
      "outputs": []
    },
    {
      "cell_type": "code",
      "metadata": {
        "id": "VDw-eld7LHY5"
      },
      "source": [
        "# %%max_fmt\n",
        "from selenium.webdriver.common.keys import Keys\n",
        "from selenium.webdriver.common.action_chains import ActionChains\n",
        "import os\n",
        "from time import sleep\n",
        "\n",
        "import pandas as pd\n",
        "from bs4 import BeautifulSoup\n",
        "from selenium import webdriver\n",
        "\n",
        "options = webdriver.ChromeOptions()\n",
        "options.add_argument('--headless')\n",
        "options.add_argument('--no-sandbox')\n",
        "options.add_argument('--disable-dev-shm-usage')"
      ],
      "execution_count": 4,
      "outputs": []
    },
    {
      "cell_type": "code",
      "metadata": {
        "id": "_XNC-fAYLNjp"
      },
      "source": [
        "# %%max_fmt\n",
        "\n",
        "# HikakinTV\n",
        "c_name = \"HikakinTV\"\n",
        "\n",
        "\n",
        "class YoutubeChannelVideoScraper(object):\n",
        "    def __init__(self, user_name, csv_file_name):\n",
        "        self.youtube_url = \"https://www.youtube.com\"\n",
        "        self.user_name = user_name\n",
        "        self.csv_file_name = csv_file_name\n",
        "        self.csv_file_path = os.path.join(os.getcwd(),\n",
        "                                          self.csv_file_name + '.csv')\n",
        "        self.channel_videos_url = os.path.join(self.youtube_url, 'user',\n",
        "                                               self.user_name, 'videos')\n",
        "        self.titles = []\n",
        "        self.video_urls = []\n",
        "\n",
        "    def run(self):\n",
        "        # ソースの取得\n",
        "        self.get_page_source()\n",
        "        # 動画とURLの抽出\n",
        "        self.parse_video_title_and_url()\n",
        "        # データの保存\n",
        "        self.save_as_csv_file()\n",
        "\n",
        "    def get_page_source(self):\n",
        "        '''\n",
        "        YoutubeChannelページの\n",
        "        最下部までスクロールしたページソースを取得\n",
        "        '''\n",
        "        # ブラウザ操作の準備\n",
        "        self.driver = webdriver.Chrome('chromedriver', options=options)\n",
        "        self.driver.get(self.channel_videos_url)\n",
        "        self.current_html = self.driver.page_source\n",
        "\n",
        "        # 動画一覧要素へ移動\n",
        "        element = self.driver.find_element_by_xpath('//*[@class=\"style-scope ytd-page-manager\"]')\n",
        "        actions = ActionChains(self.driver)\n",
        "        actions.move_to_element(element)\n",
        "        actions.perform()\n",
        "        actions.reset_actions()\n",
        "\n",
        "        # 最下部までスクロールしたソースを取得\n",
        "        while True:\n",
        "            for j in range(100):\n",
        "                actions.send_keys(Keys.PAGE_DOWN)\n",
        "            actions.perform()\n",
        "            sleep(3)\n",
        "            html = self.driver.page_source\n",
        "            if self.current_html != html:\n",
        "                self.current_html = html\n",
        "            else:\n",
        "                break\n",
        "\n",
        "    def parse_video_title_and_url(self):\n",
        "        '''\n",
        "        タイトルと動画URLを抽出\n",
        "        '''\n",
        "        soup = BeautifulSoup(self.current_html, 'html.parser')\n",
        "        for i in soup.find_all(\"a\"):\n",
        "            title = (i.get(\"title\"))\n",
        "            url = (i.get(\"href\"))\n",
        "            if title is None:\n",
        "                continue\n",
        "            elif url is None:\n",
        "                continue\n",
        "            if \"/watch?v=\" in url:\n",
        "                self.titles.append(title)\n",
        "                url = \"https://www.youtube.com\" + url\n",
        "                self.video_urls.append(url)\n",
        "\n",
        "    def save_as_csv_file(self):\n",
        "        '''\n",
        "        CSVファイルとして保存\n",
        "        '''\n",
        "        data = {\n",
        "            # \"title\": self.titles,\n",
        "            \"url\": self.video_urls\n",
        "        }\n",
        "        pd.DataFrame(data).to_csv(self.csv_file_path, index=False)\n",
        "\n",
        "\n",
        "if __name__ == \"__main__\":\n",
        "    scraper = YoutubeChannelVideoScraper(user_name=c_name,\n",
        "                                         csv_file_name=c_name)\n",
        "    scraper.run()\n"
      ],
      "execution_count": 5,
      "outputs": []
    },
    {
      "cell_type": "code",
      "metadata": {
        "id": "vyDC0OPgLUVf"
      },
      "source": [
        ""
      ],
      "execution_count": 5,
      "outputs": []
    }
  ]
}